{
 "cells": [
  {
   "cell_type": "code",
   "execution_count": 22,
   "metadata": {
    "collapsed": true
   },
   "outputs": [],
   "source": [
    "%matplotlib inline\n",
    "import matplotlib.pyplot as plt\n",
    "import numpy as np\n",
    "import numpy.linalg as linalg\n",
    "import scipy.sparse as sparse\n",
    "import scipy.sparse.linalg as linalgs\n",
    "from matplotlib import animation\n",
    "from IPython.display import HTML\n",
    "import scipy.signal as signal"
   ]
  },
  {
   "cell_type": "code",
   "execution_count": 76,
   "metadata": {},
   "outputs": [
    {
     "data": {
      "image/png": "[encoded data removed]",
      "text/plain": [
       "<matplotlib.figure.Figure at 0x25f9eb1a3c8>"
      ]
     },
     "metadata": {},
     "output_type": "display_data"
    }
   ],
   "source": [
    "fig, ax = plt.subplots()\n",
    "\n",
    "ax.set_xlim(( -0.1, 1.1))\n",
    "ax.set_ylim((- 0.3, 0.3))\n",
    "\n",
    "line, = ax.plot([], [], lw=2)\n",
    "\n",
    "nframes = 500\n",
    "\n",
    "def init():\n",
    "    line.set_data([], [])\n",
    "    return (line,)"
   ]
  },
  {
   "cell_type": "code",
   "execution_count": 73,
   "metadata": {},
   "outputs": [
    {
     "data": {
      "text/plain": [
       "(0, 1)"
      ]
     },
     "execution_count": 73,
     "metadata": {},
     "output_type": "execute_result"
    },
    {
     "data": {
      "image/png": "[encoded data removed]",
      "text/plain": [
       "<matplotlib.figure.Figure at 0x25f9fc95240>"
      ]
     },
     "metadata": {},
     "output_type": "display_data"
    }
   ],
   "source": [
    "def diff_central(func=None, x=None, dx=None):\n",
    "    return((func(x + 0.5 * dx) - func(x - 0.5 * dx)) / dx)\n",
    "w = signal.gaussian(100., 1.)\n",
    "plt.plot(w)\n",
    "plt.xlim(0,100)\n",
    "plt.ylim(0,1)\n"
   ]
  },
  {
   "cell_type": "code",
   "execution_count": 72,
   "metadata": {},
   "outputs": [
    {
     "data": {
      "text/plain": [
       "<matplotlib.text.Text at 0x25f9fc74f28>"
      ]
     },
     "execution_count": 72,
     "metadata": {},
     "output_type": "execute_result"
    },
    {
     "data": {
      "image/png": "[encoded data removed]",
      "text/plain": [
       "<matplotlib.figure.Figure at 0x25f9eb632b0>"
      ]
     },
     "metadata": {},
     "output_type": "display_data"
    }
   ],
   "source": [
    "num = len(w)\n",
    "def gaussian(x):\n",
    "    return np.exp(-0.5*(np.power(x, 2.)))\n",
    "x = np.arange(num, dtype = np.float64)\n",
    "d = gaussian(x = x)\n",
    "dwdx = diff_central(func = gaussian, x = x, dx = 1.e-5)\n",
    "plt.plot(x, dwdx)\n",
    "plt.xlabel('x')\n",
    "plt.ylabel('dfdx')"
   ]
  },
  {
   "cell_type": "code",
   "execution_count": 20,
   "metadata": {
    "collapsed": true
   },
   "outputs": [],
   "source": [
    "class HeatProb():\n",
    "    def a(self, x=None):\n",
    "        return(1.) \n",
    "    def __init__(self, N=201, **kwargs):\n",
    "        self.kwargs = kwargs\n",
    "        self.N = N\n",
    "        self.h = 1. / (np.float64(N) + 1.)\n",
    "        self.x = (np.arange(self.N, dtype=np.float64) + 1.) * self.h\n",
    "        diagonal = ((self.a(self.x - 0.5 * self.h) +\n",
    "                     self.a(self.x + 0.5 * self.h)) / self.h**2) \n",
    "        lower_diagonal = - (self.a(self.x[1:] - 0.5 * self.h)) / self.h**2 \n",
    "        upper_diagonal = - (self.a(self.x[1:] - 0.5 * self.h)) / self.h**2 \n",
    "        self.A = sparse.diags(diagonals=[lower_diagonal, diagonal, upper_diagonal],\n",
    "                              offsets=[-1, 0, 1], shape=(N, N))\n",
    "    def eig(self):\n",
    "        vals, vecs = linalg.eig(self.A.toarray())\n",
    "        isort = np.argsort(vals)\n",
    "        self.evals = vals[isort]\n",
    "        self.evecs = vecs[:, isort]\n",
    "    def set_coeffs(self, a=None, b=None):\n",
    "        self.a = a\n",
    "        self.b = b\n",
    "    def fit_coeffs(self, d=None):\n",
    "        (u, w, vt) = linalg.svd(self.evecs)\n",
    "        inz = np.where(w > 1.e-15)[0]\n",
    "        invw = np.zeros(len(w))\n",
    "        invw[inz] = 1. / w[inz] \n",
    "        einv = vt.transpose().dot(np.diag(invw)).dot(u.transpose())\n",
    "        return(einv.dot(d)) \n",
    "    def frame(self, i):\n",
    "        period =  2. * np.pi / np.sqrt(self.evals[0])\n",
    "        t = np.float64(i) / np.float64(nframes) * period * 4\n",
    "        x = self.x\n",
    "        coeffs = (self.a * np.cos(np.sqrt(self.evals) * t) +\n",
    "                  self.b * np.sin(np.sqrt(self.evals) * t))\n",
    "        y = self.evecs.dot(coeffs).flatten()\n",
    "        line.set_data(x, y)\n",
    "        return (line,)"
   ]
  },
  {
   "cell_type": "code",
   "execution_count": 21,
   "metadata": {},
   "outputs": [
    {
     "name": "stdout",
     "output_type": "stream",
     "text": [
      "[[ 81608. -40804.      0. ...,      0.      0.      0.]\n",
      " [-40804.  81608. -40804. ...,      0.      0.      0.]\n",
      " [     0. -40804.  81608. ...,      0.      0.      0.]\n",
      " ..., \n",
      " [     0.      0.      0. ...,  81608. -40804.      0.]\n",
      " [     0.      0.      0. ..., -40804.  81608. -40804.]\n",
      " [     0.      0.      0. ...,      0. -40804.  81608.]]\n"
     ]
    }
   ],
   "source": [
    "st = HeatProb()\n",
    "st.eig()\n",
    "print(st.A.toarray())"
   ]
  },
  {
   "cell_type": "code",
   "execution_count": 15,
   "metadata": {},
   "outputs": [
    {
     "name": "stdout",
     "output_type": "stream",
     "text": [
      "[    9.86940547    39.47523472    88.81032688   157.86274912   246.61579948\n",
      "   355.04801094   483.13315664   630.84025618   798.13358311   984.97267364\n",
      "  1191.31233632  1417.10266308  1662.28904121  1926.81216665  2210.60805825\n",
      "  2513.60807331  2835.73892418  3176.92269594  3537.07686528  3916.11432047\n",
      "  4313.94338239  4730.46782674  5165.58690731  5619.19538033  6091.18352995\n",
      "  6581.43719474  7089.83779534  7616.26236314  8160.58356999  8722.66975903]\n"
     ]
    }
   ],
   "source": [
    "print(st.evals[0:30])"
   ]
  },
  {
   "cell_type": "code",
   "execution_count": 16,
   "metadata": {
    "scrolled": true
   },
   "outputs": [
    {
     "name": "stdout",
     "output_type": "stream",
     "text": [
      "[  1.           1.99993953   2.99975813   3.99939533   4.99879069\n",
      "   5.99788378   6.99661418   7.9949215    8.99274538   9.99002546\n",
      "  10.98670146  11.9827131   12.97800016  13.97250244  14.96615982\n",
      "  15.9589122   16.95069957  17.94146193  18.93113939  19.91967209\n",
      "  20.90700026  21.89306421  22.8778043   23.86116098  24.84307479\n",
      "  25.82348636  26.80233641  27.77956573  28.75511525  29.72892596]\n"
     ]
    }
   ],
   "source": [
    "print(np.sqrt(st.evals[0:30] / st.evals[0]))"
   ]
  },
  {
   "cell_type": "code",
   "execution_count": 17,
   "metadata": {
    "scrolled": false
   },
   "outputs": [
    {
     "data": {
      "image/png": "[encoded data removed]",
      "text/plain": [
       "<matplotlib.figure.Figure at 0x25f9dd00710>"
      ]
     },
     "metadata": {},
     "output_type": "display_data"
    }
   ],
   "source": [
    "for i in np.arange(3):\n",
    "    plt.plot(st.x, st.evecs[:, i])"
   ]
  },
  {
   "cell_type": "code",
   "execution_count": 78,
   "metadata": {
    "collapsed": true
   },
   "outputs": [],
   "source": [
    "class HeatProb():\n",
    "    def a(self, x=None):\n",
    "        return(x**2) \n",
    "    def __init__(self, N=201, **kwargs):\n",
    "        self.kwargs = kwargs\n",
    "        self.N = N\n",
    "        self.h = 1. / (np.float64(N) + 1.)\n",
    "        self.x = (np.arange(self.N, dtype=np.float64) + 1.) * self.h\n",
    "        diagonal = ((self.a(self.x - 0.5 * self.h) +\n",
    "                     self.a(self.x + 0.5 * self.h)) / self.h**2) \n",
    "        lower_diagonal = - (self.a(self.x[1:] - 0.5 * self.h)) / self.h**2 \n",
    "        upper_diagonal = - (self.a(self.x[1:] - 0.5 * self.h)) / self.h**2 \n",
    "        self.A = sparse.diags(diagonals=[lower_diagonal, diagonal, upper_diagonal],\n",
    "                              offsets=[-1, 0, 1], shape=(N, N))\n",
    "    def eig(self):\n",
    "        # Note that the sparse version of \"eig\" failed here; I know this problem should \n",
    "        # yield sines and cosines. A lesson to check your package's performance! So I \n",
    "        # work on the full matrix.\n",
    "        vals, vecs = linalg.eig(self.A.toarray())\n",
    "        isort = np.argsort(vals)\n",
    "        self.evals = vals[isort]\n",
    "        self.evecs = vecs[:, isort]\n",
    "    def set_coeffs(self, a=None, b=None):\n",
    "        self.a = a\n",
    "        self.b = b\n",
    "    def fit_coeffs(self, d=None):\n",
    "        (u, w, vt) = linalg.svd(self.evecs)\n",
    "        inz = np.where(w > 1.e-15)[0]\n",
    "        invw = np.zeros(len(w))\n",
    "        invw[inz] = 1. / w[inz] \n",
    "        einv = vt.transpose().dot(np.diag(invw)).dot(u.transpose())\n",
    "        return(einv.dot(d)) \n",
    "    def frame(self, i):\n",
    "        period =  2. * np.pi / np.sqrt(self.evals[0])\n",
    "        t = np.float64(i) / np.float64(nframes) * period * 4\n",
    "        x = self.x\n",
    "        coeffs = (self.a * np.cos(np.sqrt(self.evals) * t) +\n",
    "                  self.b * np.sin(np.sqrt(self.evals) * t))\n",
    "        y = self.evecs.dot(coeffs).flatten()\n",
    "        line.set_data(x, y)\n",
    "        return (line,)"
   ]
  },
  {
   "cell_type": "code",
   "execution_count": 79,
   "metadata": {},
   "outputs": [
    {
     "name": "stdout",
     "output_type": "stream",
     "text": [
      "[[  2.50000000e+00  -2.25000000e+00   0.00000000e+00 ...,   0.00000000e+00\n",
      "    0.00000000e+00   0.00000000e+00]\n",
      " [ -2.25000000e+00   8.50000000e+00  -6.25000000e+00 ...,   0.00000000e+00\n",
      "    0.00000000e+00   0.00000000e+00]\n",
      " [  0.00000000e+00  -6.25000000e+00   1.85000000e+01 ...,   0.00000000e+00\n",
      "    0.00000000e+00   0.00000000e+00]\n",
      " ..., \n",
      " [  0.00000000e+00   0.00000000e+00   0.00000000e+00 ...,   7.92025000e+04\n",
      "   -3.98002500e+04   0.00000000e+00]\n",
      " [  0.00000000e+00   0.00000000e+00   0.00000000e+00 ...,  -3.98002500e+04\n",
      "    8.00005000e+04  -4.02002500e+04]\n",
      " [  0.00000000e+00   0.00000000e+00   0.00000000e+00 ...,   0.00000000e+00\n",
      "   -4.02002500e+04   8.08025000e+04]]\n"
     ]
    }
   ],
   "source": [
    "st = HeatProb()\n",
    "st.eig()\n",
    "print(st.A.toarray())"
   ]
  },
  {
   "cell_type": "code",
   "execution_count": 80,
   "metadata": {},
   "outputs": [
    {
     "data": {
      "image/png": "[encoded data removed]",
      "text/plain": [
       "<matplotlib.figure.Figure at 0x25f9a8e5438>"
      ]
     },
     "metadata": {},
     "output_type": "display_data"
    }
   ],
   "source": [
    "for i in np.arange(3):\n",
    "    plt.plot(st.x, st.evecs[:, i])"
   ]
  },
  {
   "cell_type": "code",
   "execution_count": null,
   "metadata": {
    "collapsed": true
   },
   "outputs": [],
   "source": [
    "#I wasn't sure how to include the gaussian. I can't find the \n",
    "#corresponding spot in the code for a String. \n",
    "#Also, I thought I uploaded this on Friday, when it was due, but I think I forgot to press the final upload button, so it never \n",
    "#went onto github."
   ]
  }
 ],
 "metadata": {
  "kernelspec": {
   "display_name": "Python 3",
   "language": "python",
   "name": "python3"
  },
  "language_info": {
   "codemirror_mode": {
    "name": "ipython",
    "version": 3
   },
   "file_extension": ".py",
   "mimetype": "text/x-python",
   "name": "python",
   "nbconvert_exporter": "python",
   "pygments_lexer": "ipython3",
   "version": "3.6.1"
  }
 },
 "nbformat": 4,
 "nbformat_minor": 2
}
